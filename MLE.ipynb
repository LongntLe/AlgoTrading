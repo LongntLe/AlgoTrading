{
  "nbformat": 4,
  "nbformat_minor": 0,
  "metadata": {
    "colab": {
      "name": "MLE.ipynb",
      "provenance": [],
      "authorship_tag": "ABX9TyMryQ8e+l4c0HrQhDeMLNKE",
      "include_colab_link": true
    },
    "kernelspec": {
      "name": "python3",
      "display_name": "Python 3"
    }
  },
  "cells": [
    {
      "cell_type": "markdown",
      "metadata": {
        "id": "view-in-github",
        "colab_type": "text"
      },
      "source": [
        "<a href=\"https://colab.research.google.com/github/LongntLe/AlgoTrading/blob/master/MLE.ipynb\" target=\"_parent\"><img src=\"https://colab.research.google.com/assets/colab-badge.svg\" alt=\"Open In Colab\"/></a>"
      ]
    },
    {
      "cell_type": "markdown",
      "metadata": {
        "id": "AzqPb_QVS8gC",
        "colab_type": "text"
      },
      "source": [
        "$P(X | \\mu) = \\frac{1} {\\sqrt{2\\pi)^d}} \\exp {-\\frac {1}{2} (\\vec{x} - \\vec{u})^T(\\vec{x} - \\vec{u})} $\n",
        "\n",
        "$P(D| \\mu) = \\prod P(X | \\mu)  $\n",
        "\n",
        "$          = \\const \\times \\prod \\exp {-\\frac {1}{2} (\\vec{x_i} - \\vec{u})^T(\\vec{x_i} - \\vec{u})} $\n",
        "\n",
        "Therefore, \n",
        "\n",
        "$ \\log P(D| \\mu) = \\const \\times \\sum (-1/2 \\times (\\vec{x_i} - \\vec{u})^T(\\vec{x_i} - \\vec{u}))  $\n"
      ]
    },
    {
      "cell_type": "code",
      "metadata": {
        "id": "zI7pl64hVHgB",
        "colab_type": "code",
        "colab": {}
      },
      "source": [
        ""
      ],
      "execution_count": null,
      "outputs": []
    }
  ]
}